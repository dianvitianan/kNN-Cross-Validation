{
 "cells": [
  {
   "cell_type": "markdown",
   "metadata": {},
   "source": [
    "## Classification using KNN PIMA DATA"
   ]
  },
  {
   "cell_type": "code",
   "execution_count": 1,
   "metadata": {},
   "outputs": [],
   "source": [
    "import pandas as pd\n",
    "import numpy as np\n",
    "import matplotlib.pyplot as plt\n",
    "import seaborn as sns"
   ]
  },
  {
   "cell_type": "code",
   "execution_count": 2,
   "metadata": {},
   "outputs": [
    {
     "data": {
      "text/html": [
       "<div>\n",
       "<style scoped>\n",
       "    .dataframe tbody tr th:only-of-type {\n",
       "        vertical-align: middle;\n",
       "    }\n",
       "\n",
       "    .dataframe tbody tr th {\n",
       "        vertical-align: top;\n",
       "    }\n",
       "\n",
       "    .dataframe thead th {\n",
       "        text-align: right;\n",
       "    }\n",
       "</style>\n",
       "<table border=\"1\" class=\"dataframe\">\n",
       "  <thead>\n",
       "    <tr style=\"text-align: right;\">\n",
       "      <th></th>\n",
       "      <th>freq_pregnant</th>\n",
       "      <th>con_glukose</th>\n",
       "      <th>diastolic</th>\n",
       "      <th>thickness_skin</th>\n",
       "      <th>insulin</th>\n",
       "      <th>BMI</th>\n",
       "      <th>Diabetes_function</th>\n",
       "      <th>Age</th>\n",
       "      <th>Class</th>\n",
       "    </tr>\n",
       "  </thead>\n",
       "  <tbody>\n",
       "    <tr>\n",
       "      <th>0</th>\n",
       "      <td>6</td>\n",
       "      <td>148</td>\n",
       "      <td>72</td>\n",
       "      <td>35</td>\n",
       "      <td>0</td>\n",
       "      <td>33.6</td>\n",
       "      <td>0.627</td>\n",
       "      <td>50</td>\n",
       "      <td>1</td>\n",
       "    </tr>\n",
       "    <tr>\n",
       "      <th>1</th>\n",
       "      <td>1</td>\n",
       "      <td>85</td>\n",
       "      <td>66</td>\n",
       "      <td>29</td>\n",
       "      <td>0</td>\n",
       "      <td>26.6</td>\n",
       "      <td>0.351</td>\n",
       "      <td>31</td>\n",
       "      <td>0</td>\n",
       "    </tr>\n",
       "    <tr>\n",
       "      <th>2</th>\n",
       "      <td>8</td>\n",
       "      <td>183</td>\n",
       "      <td>64</td>\n",
       "      <td>0</td>\n",
       "      <td>0</td>\n",
       "      <td>23.3</td>\n",
       "      <td>0.672</td>\n",
       "      <td>32</td>\n",
       "      <td>1</td>\n",
       "    </tr>\n",
       "    <tr>\n",
       "      <th>3</th>\n",
       "      <td>1</td>\n",
       "      <td>89</td>\n",
       "      <td>66</td>\n",
       "      <td>23</td>\n",
       "      <td>94</td>\n",
       "      <td>28.1</td>\n",
       "      <td>0.167</td>\n",
       "      <td>21</td>\n",
       "      <td>0</td>\n",
       "    </tr>\n",
       "    <tr>\n",
       "      <th>4</th>\n",
       "      <td>0</td>\n",
       "      <td>137</td>\n",
       "      <td>40</td>\n",
       "      <td>35</td>\n",
       "      <td>168</td>\n",
       "      <td>43.1</td>\n",
       "      <td>2.288</td>\n",
       "      <td>33</td>\n",
       "      <td>1</td>\n",
       "    </tr>\n",
       "  </tbody>\n",
       "</table>\n",
       "</div>"
      ],
      "text/plain": [
       "   freq_pregnant  con_glukose  diastolic  thickness_skin  insulin   BMI  \\\n",
       "0              6          148         72              35        0  33.6   \n",
       "1              1           85         66              29        0  26.6   \n",
       "2              8          183         64               0        0  23.3   \n",
       "3              1           89         66              23       94  28.1   \n",
       "4              0          137         40              35      168  43.1   \n",
       "\n",
       "   Diabetes_function  Age  Class  \n",
       "0              0.627   50      1  \n",
       "1              0.351   31      0  \n",
       "2              0.672   32      1  \n",
       "3              0.167   21      0  \n",
       "4              2.288   33      1  "
      ]
     },
     "execution_count": 2,
     "metadata": {},
     "output_type": "execute_result"
    }
   ],
   "source": [
    "data = pd.read_excel(r'E:/pima.xlsx', sheet_name='pima')\n",
    "data.head()"
   ]
  },
  {
   "cell_type": "code",
   "execution_count": 3,
   "metadata": {},
   "outputs": [],
   "source": [
    "from sklearn.neighbors import KNeighborsClassifier"
   ]
  },
  {
   "cell_type": "code",
   "execution_count": 4,
   "metadata": {},
   "outputs": [],
   "source": [
    "knn= KNeighborsClassifier (n_neighbors=5)"
   ]
  },
  {
   "cell_type": "code",
   "execution_count": 5,
   "metadata": {},
   "outputs": [],
   "source": [
    "from sklearn.model_selection import KFold, cross_val_score\n",
    "y = data['Class']\n",
    "X = data.drop(['Class'], axis=1)\n",
    "k_fold = KFold(n_splits=10)\n",
    "akurasi = cross_val_score(knn, X, y, cv=k_fold, scoring='accuracy')\n",
    "presisi = cross_val_score(knn,X, y,cv=k_fold, scoring='precision')\n",
    "recall = cross_val_score(knn,X,y, cv=k_fold, scoring='recall')\n",
    "AUCscore = cross_val_score(knn, X, y, cv=k_fold, scoring ='roc_auc')"
   ]
  },
  {
   "cell_type": "code",
   "execution_count": 6,
   "metadata": {},
   "outputs": [
    {
     "name": "stdout",
     "output_type": "stream",
     "text": [
      "[0.63636364 0.83116883 0.7012987  0.63636364 0.71428571 0.75324675\n",
      " 0.74025974 0.80519481 0.68421053 0.76315789]\n",
      "[0.58333333 0.73684211 0.73913043 0.54166667 0.60869565 0.78947368\n",
      " 0.3125     0.69230769 0.5        0.71428571]\n",
      "[0.4375     0.63636364 0.5        0.43333333 0.51851852 0.5\n",
      " 0.35714286 0.72       0.54166667 0.66666667]\n",
      "[0.646875   0.81694215 0.71990424 0.69113475 0.78444444 0.79184397\n",
      " 0.73696145 0.88653846 0.71314103 0.73224638]\n"
     ]
    }
   ],
   "source": [
    "print(akurasi)\n",
    "print(presisi)\n",
    "print(recall)\n",
    "print(AUCscore)"
   ]
  },
  {
   "cell_type": "code",
   "execution_count": 7,
   "metadata": {},
   "outputs": [
    {
     "name": "stdout",
     "output_type": "stream",
     "text": [
      "0.7265550239234451\n",
      "0.6218235283023612\n",
      "0.5311191678691679\n",
      "0.7520031872613351\n"
     ]
    }
   ],
   "source": [
    "print(akurasi.mean())\n",
    "print(presisi.mean())\n",
    "print(recall.mean())\n",
    "print(AUCscore.mean())"
   ]
  },
  {
   "cell_type": "markdown",
   "metadata": {},
   "source": [
    "### the best k"
   ]
  },
  {
   "cell_type": "code",
   "execution_count": 8,
   "metadata": {},
   "outputs": [],
   "source": [
    "k_range = range(5,10)\n",
    "k_akurasi=[]\n",
    "k_presisi =[]\n",
    "k_recall =[]\n",
    "for k in k_range:\n",
    "    knn =KNeighborsClassifier(n_neighbors=k)\n",
    "    akurasi = cross_val_score(knn, X, y, cv=k_fold, scoring ='accuracy')\n",
    "    k_akurasi.append(akurasi.mean())\n",
    "    presisi = cross_val_score(knn,X,y, cv=k_fold, scoring='precision')\n",
    "    k_presisi.append(presisi.mean())\n",
    "    recall = cross_val_score(knn, X, y, cv=k_fold, scoring='recall')\n",
    "    k_recall.append(recall.mean())"
   ]
  },
  {
   "cell_type": "code",
   "execution_count": 9,
   "metadata": {},
   "outputs": [
    {
     "name": "stdout",
     "output_type": "stream",
     "text": [
      "[0.7265550239234451, 0.7369617224880384, 0.7448051948051948, 0.7447881066302118, 0.7396103896103897]\n",
      "[0.6218235283023612, 0.6782916928272965, 0.6499185161243985, 0.691876080575771, 0.6465537336760248]\n",
      "[0.5311191678691679, 0.44652240896358536, 0.5684343434343433, 0.47888135557253203, 0.5512575757575757]\n"
     ]
    }
   ],
   "source": [
    "print (k_akurasi)\n",
    "print(k_presisi)\n",
    "print (k_recall)"
   ]
  },
  {
   "cell_type": "code",
   "execution_count": 10,
   "metadata": {},
   "outputs": [
    {
     "data": {
      "text/plain": [
       "Text(0,0.5,'Cross-validated value')"
      ]
     },
     "execution_count": 10,
     "metadata": {},
     "output_type": "execute_result"
    },
    {
     "data": {
      "image/png": "[encoded data removed]",
      "text/plain": [
       "<Figure size 432x288 with 1 Axes>"
      ]
     },
     "metadata": {
      "needs_background": "light"
     },
     "output_type": "display_data"
    }
   ],
   "source": [
    "import matplotlib.pyplot as plt\n",
    "%matplotlib inline\n",
    "plt.plot (k_range, k_akurasi, color='red')\n",
    "plt.plot (k_range, k_presisi, color='blue')\n",
    "plt.plot (k_range, k_recall, color ='green')\n",
    "plt.xlabel('Value of K for KNN')\n",
    "plt.ylabel ('Cross-validated value')"
   ]
  }
 ],
 "metadata": {
  "kernelspec": {
   "display_name": "Python 3",
   "language": "python",
   "name": "python3"
  },
  "language_info": {
   "codemirror_mode": {
    "name": "ipython",
    "version": 3
   },
   "file_extension": ".py",
   "mimetype": "text/x-python",
   "name": "python",
   "nbconvert_exporter": "python",
   "pygments_lexer": "ipython3",
   "version": "3.7.0"
  }
 },
 "nbformat": 4,
 "nbformat_minor": 2
}
